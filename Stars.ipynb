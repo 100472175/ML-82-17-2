{
 "cells": [
  {
   "cell_type": "markdown",
   "source": [
    "# Segunda práctica de Aprendizaje Automático\n",
    "\n",
    "Implementación del grupo 17, formado por:\n",
    "- Sergio Barragán Blanco (100472343)\n",
    "- Eduardo Alarcón Navarro (100472175)"
   ],
   "metadata": {
    "collapsed": false
   },
   "id": "c9b1858d249ce245"
  },
  {
   "cell_type": "markdown",
   "source": [
    "# Lectura del fichero CSV\n"
   ],
   "metadata": {
    "collapsed": false
   },
   "id": "4a7dc78331fd7fea"
  },
  {
   "cell_type": "code",
   "execution_count": 11,
   "outputs": [
    {
     "name": "stdout",
     "output_type": "stream",
     "text": [
      "     Temperature              L          R    A_M  Color Spectral_Class\n",
      "0           3068       0.002400     0.1700  16.12    Red              M\n",
      "1           3042       0.000500     0.1542  16.60    Red              M\n",
      "2           2600       0.000300     0.1020  18.70    Red              M\n",
      "3           2800       0.000200     0.1600  16.65    Red              M\n",
      "4           1939       0.000138     0.1030  20.06    Red              M\n",
      "..           ...            ...        ...    ...    ...            ...\n",
      "235        38940  374830.000000  1356.0000  -9.93   Blue              O\n",
      "236        30839  834042.000000  1194.0000 -10.63   Blue              O\n",
      "237         8829  537493.000000  1423.0000 -10.73  White              A\n",
      "238         9235  404940.000000  1112.0000 -11.23  White              A\n",
      "239        37882  294903.000000  1783.0000  -7.80   Blue              O\n",
      "\n",
      "[240 rows x 6 columns]\n"
     ]
    }
   ],
   "source": [
    "import pandas as pd\n",
    "import numpy as np\n",
    "# Load the data\n",
    "data = pd.read_csv('Stars2.csv')\n",
    "\n",
    "print(data)"
   ],
   "metadata": {
    "collapsed": false,
    "ExecuteTime": {
     "end_time": "2024-04-24T06:27:40.180452500Z",
     "start_time": "2024-04-24T06:27:40.091370600Z"
    }
   },
   "id": "initial_id"
  },
  {
   "cell_type": "markdown",
   "source": [
    "# A continuación, haremos nuestra propia implementación del Kmeans"
   ],
   "metadata": {
    "collapsed": false
   },
   "id": "841dcebe4505eaec"
  },
  {
   "cell_type": "code",
   "execution_count": null,
   "outputs": [],
   "source": [
    "\n",
    "class Kmeans():\n",
    "    def __init__(self, n_clusters=8, max_iter=300, tol=1e-4):\n",
    "        self.n_clusters = n_clusters\n",
    "        self.max_iter = max_iter\n",
    "        self.tol = tol\n",
    "        self.random_state = 343175\n",
    "        self.cluster_centers_ = None\n",
    "\n",
    "    def fit(self, X, y=None, sample_weight=None):\n",
    "        # Inicialización de los centroides de manera aleatoria\n",
    "        rng = np.random.default_rng(self.random_state)\n",
    "        self.cluster_centers_ = rng.choice(X, size=self.n_clusters, replace=False)\n",
    "\n",
    "        for _ in range(self.max_iter):\n",
    "            # Asignación de puntos a los centroides más cercanos\n",
    "            labels = self._assign_labels(X)\n",
    "\n",
    "            # Actualización de los centroides\n",
    "            new_centers = self._compute_centers(X, labels)\n",
    "\n",
    "            # Verificar si los centroides han convergido\n",
    "            if np.allclose(self.cluster_centers_, new_centers, atol=self.tol):\n",
    "                break\n",
    "            \n",
    "            self.cluster_centers_ = new_centers\n",
    "\n",
    "    def _assign_labels(self, X):\n",
    "        labels = np.empty(X.shape[0], dtype=int)\n",
    "        for i, x in enumerate(X):\n",
    "            # Calcular la distancia euclidiana a cada centroide\n",
    "            distances = np.linalg.norm(self.cluster_centers_ - x, axis=1)\n",
    "            # Asignar el punto al clúster con la distancia más corta\n",
    "            labels[i] = np.argmin(distances)\n",
    "        return labels\n",
    "\n",
    "    def _compute_centers(self, X, labels):\n",
    "        new_centers = np.empty_like(self.cluster_centers_)\n",
    "        for i in range(self.n_clusters):\n",
    "            # Calcular el nuevo centroide como el promedio de los puntos asignados al clúster i\n",
    "            cluster_points = X[labels == i]\n",
    "            if len(cluster_points) > 0:\n",
    "                new_centers[i] = np.mean(cluster_points, axis=0)\n",
    "            else:\n",
    "                # Si no hay puntos asignados al clúster, mantener el centroide actual\n",
    "                new_centers[i] = self.cluster_centers_[i]\n",
    "        return new_centers\n"
   ],
   "metadata": {
    "collapsed": false
   },
   "id": "1cb1802c51833f55"
  },
  {
   "cell_type": "markdown",
   "source": [
    "# A continuación, haremos el encoding de los datos, podemos hacer tanto OneHot como Ordinal"
   ],
   "metadata": {
    "collapsed": false
   },
   "id": "ef2a4a35df2d865f"
  },
  {
   "cell_type": "code",
   "execution_count": 16,
   "outputs": [
    {
     "name": "stdout",
     "output_type": "stream",
     "text": [
      "     Temperature              L          R    A_M  Color Spectral_Class\n",
      "0           3068       0.002400     0.1700  16.12    Red              M\n",
      "1           3042       0.000500     0.1542  16.60    Red              M\n",
      "2           2600       0.000300     0.1020  18.70    Red              M\n",
      "3           2800       0.000200     0.1600  16.65    Red              M\n",
      "4           1939       0.000138     0.1030  20.06    Red              M\n",
      "..           ...            ...        ...    ...    ...            ...\n",
      "235        38940  374830.000000  1356.0000  -9.93   Blue              O\n",
      "236        30839  834042.000000  1194.0000 -10.63   Blue              O\n",
      "237         8829  537493.000000  1423.0000 -10.73  White              A\n",
      "238         9235  404940.000000  1112.0000 -11.23  White              A\n",
      "239        37882  294903.000000  1783.0000  -7.80   Blue              O\n",
      "\n",
      "[240 rows x 6 columns]\n"
     ]
    },
    {
     "data": {
      "text/plain": "     Temperature              L          R    A_M  Color Spectral_Class\n0           3068       0.002400     0.1700  16.12    Red              M\n1           3042       0.000500     0.1542  16.60    Red              M\n2           2600       0.000300     0.1020  18.70    Red              M\n3           2800       0.000200     0.1600  16.65    Red              M\n4           1939       0.000138     0.1030  20.06    Red              M\n..           ...            ...        ...    ...    ...            ...\n235        38940  374830.000000  1356.0000  -9.93   Blue              O\n236        30839  834042.000000  1194.0000 -10.63   Blue              O\n237         8829  537493.000000  1423.0000 -10.73  White              A\n238         9235  404940.000000  1112.0000 -11.23  White              A\n239        37882  294903.000000  1783.0000  -7.80   Blue              O\n\n[240 rows x 6 columns]",
      "text/html": "<div>\n<style scoped>\n    .dataframe tbody tr th:only-of-type {\n        vertical-align: middle;\n    }\n\n    .dataframe tbody tr th {\n        vertical-align: top;\n    }\n\n    .dataframe thead th {\n        text-align: right;\n    }\n</style>\n<table border=\"1\" class=\"dataframe\">\n  <thead>\n    <tr style=\"text-align: right;\">\n      <th></th>\n      <th>Temperature</th>\n      <th>L</th>\n      <th>R</th>\n      <th>A_M</th>\n      <th>Color</th>\n      <th>Spectral_Class</th>\n    </tr>\n  </thead>\n  <tbody>\n    <tr>\n      <th>0</th>\n      <td>3068</td>\n      <td>0.002400</td>\n      <td>0.1700</td>\n      <td>16.12</td>\n      <td>Red</td>\n      <td>M</td>\n    </tr>\n    <tr>\n      <th>1</th>\n      <td>3042</td>\n      <td>0.000500</td>\n      <td>0.1542</td>\n      <td>16.60</td>\n      <td>Red</td>\n      <td>M</td>\n    </tr>\n    <tr>\n      <th>2</th>\n      <td>2600</td>\n      <td>0.000300</td>\n      <td>0.1020</td>\n      <td>18.70</td>\n      <td>Red</td>\n      <td>M</td>\n    </tr>\n    <tr>\n      <th>3</th>\n      <td>2800</td>\n      <td>0.000200</td>\n      <td>0.1600</td>\n      <td>16.65</td>\n      <td>Red</td>\n      <td>M</td>\n    </tr>\n    <tr>\n      <th>4</th>\n      <td>1939</td>\n      <td>0.000138</td>\n      <td>0.1030</td>\n      <td>20.06</td>\n      <td>Red</td>\n      <td>M</td>\n    </tr>\n    <tr>\n      <th>...</th>\n      <td>...</td>\n      <td>...</td>\n      <td>...</td>\n      <td>...</td>\n      <td>...</td>\n      <td>...</td>\n    </tr>\n    <tr>\n      <th>235</th>\n      <td>38940</td>\n      <td>374830.000000</td>\n      <td>1356.0000</td>\n      <td>-9.93</td>\n      <td>Blue</td>\n      <td>O</td>\n    </tr>\n    <tr>\n      <th>236</th>\n      <td>30839</td>\n      <td>834042.000000</td>\n      <td>1194.0000</td>\n      <td>-10.63</td>\n      <td>Blue</td>\n      <td>O</td>\n    </tr>\n    <tr>\n      <th>237</th>\n      <td>8829</td>\n      <td>537493.000000</td>\n      <td>1423.0000</td>\n      <td>-10.73</td>\n      <td>White</td>\n      <td>A</td>\n    </tr>\n    <tr>\n      <th>238</th>\n      <td>9235</td>\n      <td>404940.000000</td>\n      <td>1112.0000</td>\n      <td>-11.23</td>\n      <td>White</td>\n      <td>A</td>\n    </tr>\n    <tr>\n      <th>239</th>\n      <td>37882</td>\n      <td>294903.000000</td>\n      <td>1783.0000</td>\n      <td>-7.80</td>\n      <td>Blue</td>\n      <td>O</td>\n    </tr>\n  </tbody>\n</table>\n<p>240 rows × 6 columns</p>\n</div>"
     },
     "execution_count": 16,
     "metadata": {},
     "output_type": "execute_result"
    }
   ],
   "source": [
    "from sklearn.preprocessing import OrdinalEncoder\n",
    "\"\"\"\n",
    "Debido a que se usan distintos nombres para definir un mismo color, trataremos de unificarlos\n",
    "\"\"\"\n",
    "\n",
    "# Unificando los valores de los colores\n",
    "mapping = {\n",
    "    \"Red\": [\"Red\"],\n",
    "    \"Orange-Red\": [\"Orange-Red\"],\n",
    "    \"Orange\": [\"Orange\"],\n",
    "    \"Yellow-Orange\": [\"Pale yellow orange\"],\n",
    "    \"Yellow\": [\"yellowish\", \"Yellowish\"],\n",
    "    \"White-Yellow\": [\"Yellowish White\", \"yellow-white\", \"White-yellow\"],\n",
    "    \"White\": [\"White\", \"Whitish\", \"white\"],\n",
    "    \"Blue-white\": [\"Blue-White\", \"Blue-white\", \"Blue White\", \"Blue white\"],\n",
    "    \"Blue\": [\"Blue\"]\n",
    "}\n",
    "normalized_colors = list(mapping.keys())\n",
    "\n",
    "\n",
    "# Mapeamos los datos\n",
    "for target_color, source_colors in mapping.items():\n",
    "  data.loc[data.Color.isin(source_colors), 'Color'] = target_color\n",
    "\n",
    "oe = OrdinalEncoder(categories=[normalized_colors])\n",
    "data_encoded = oe.fit_transform(data.Color.values.reshape(-1, 1))\n",
    "\n",
    "np.hstack([data.Color.values.reshape(-1, 1), data_encoded])\n",
    "data"
   ],
   "metadata": {
    "collapsed": false,
    "ExecuteTime": {
     "end_time": "2024-04-24T06:31:07.719560700Z",
     "start_time": "2024-04-24T06:31:07.667071600Z"
    }
   },
   "id": "4c0a32f107b20490"
  }
 ],
 "metadata": {
  "kernelspec": {
   "display_name": "Python 3",
   "language": "python",
   "name": "python3"
  },
  "language_info": {
   "codemirror_mode": {
    "name": "ipython",
    "version": 2
   },
   "file_extension": ".py",
   "mimetype": "text/x-python",
   "name": "python",
   "nbconvert_exporter": "python",
   "pygments_lexer": "ipython2",
   "version": "2.7.6"
  }
 },
 "nbformat": 4,
 "nbformat_minor": 5
}
